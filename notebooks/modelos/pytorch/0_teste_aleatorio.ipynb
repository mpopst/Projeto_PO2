{
 "cells": [
  {
   "cell_type": "markdown",
   "metadata": {
    "toc": true
   },
   "source": [
    "<h1>Table of Contents<span class=\"tocSkip\"></span></h1>\n",
    "<div class=\"toc\"><ul class=\"toc-item\"><li><span><a href=\"#Vamos-testar-um-ambiente-simples,-com-5-distribuições-diferentes-de-y\" data-toc-modified-id=\"Vamos-testar-um-ambiente-simples,-com-5-distribuições-diferentes-de-y-1\"><span class=\"toc-item-num\">1&nbsp;&nbsp;</span>Vamos testar um ambiente simples, com 5 distribuições diferentes de y</a></span></li><li><span><a href=\"#Criar-classe-do-modelo\" data-toc-modified-id=\"Criar-classe-do-modelo-2\"><span class=\"toc-item-num\">2&nbsp;&nbsp;</span>Criar classe do modelo</a></span></li><li><span><a href=\"#Treinar-por-100-epochs\" data-toc-modified-id=\"Treinar-por-100-epochs-3\"><span class=\"toc-item-num\">3&nbsp;&nbsp;</span>Treinar por 100 epochs</a></span></li><li><span><a href=\"#Avaliar-evolução-dos-parâmetros\" data-toc-modified-id=\"Avaliar-evolução-dos-parâmetros-4\"><span class=\"toc-item-num\">4&nbsp;&nbsp;</span>Avaliar evolução dos parâmetros</a></span></li></ul></div>"
   ]
  },
  {
   "cell_type": "code",
   "execution_count": 1,
   "metadata": {},
   "outputs": [],
   "source": [
    "import sys\n",
    "import torch\n",
    "import numpy as np  \n",
    "\n",
    "from tqdm.notebook import tqdm\n",
    "\n",
    "import torch.nn as nn\n",
    "import torch.optim as optim\n",
    "import torch.nn.functional as F\n",
    "\n",
    "from torch.autograd import Variable\n",
    "\n",
    "import matplotlib.pyplot as plt"
   ]
  },
  {
   "cell_type": "markdown",
   "metadata": {},
   "source": [
    "# Vamos testar um ambiente simples, com 5 distribuições diferentes de y"
   ]
  },
  {
   "cell_type": "code",
   "execution_count": 2,
   "metadata": {},
   "outputs": [],
   "source": [
    "Y = []\n",
    "\n",
    "true_lambdas = []\n",
    "for _ in range(5):\n",
    "    lambda_ = np.random.exponential(5)\n",
    "    true_lambdas.append(lambda_)\n",
    "    Y.append(np.random.poisson(lambda_,size=20))"
   ]
  },
  {
   "cell_type": "markdown",
   "metadata": {},
   "source": [
    "# Criar classe do modelo"
   ]
  },
  {
   "cell_type": "code",
   "execution_count": 11,
   "metadata": {},
   "outputs": [],
   "source": [
    "class ModelWithNoRegressors(nn.Module):\n",
    "    def __init__(self,n,a,eps=1e-2):\n",
    "        super(ModelWithNoRegressors, self).__init__()\n",
    "        \n",
    "        self.alpha = a\n",
    "        self.eps = eps\n",
    "        \n",
    "        self.linear1   = nn.Linear(1, n, bias=False)\n",
    "        self.optimizer = optim.SGD(self.parameters(), lr=1)\n",
    "        \n",
    "        self.linear1.weight.data.fill_(eps)\n",
    "        \n",
    "        self.params_hist = []\n",
    "\n",
    "    def forward(self,state=np.ones(1)):\n",
    "        x = self.linear1(torch.from_numpy(state).float())\n",
    "        x = F.relu(x) + self.eps\n",
    "        return x\n",
    "    \n",
    "    def backward(self,Y,lambdas):\n",
    "        \n",
    "        self.params_hist.append(self.forward().detach().numpy())\n",
    "           \n",
    "        Z = torch.zeros(len(Y))\n",
    "        Y = torch.tensor(Y) \n",
    "        \n",
    "        gradients = []\n",
    "        for iY,l,z in zip(Y,lambdas,Z):\n",
    "            g = []\n",
    "            for y in iY:\n",
    "                \n",
    "                verossimilhanca = l - y*torch.log(l)\n",
    "                \n",
    "                regularizador = []\n",
    "                for il in lambdas:\n",
    "                    regularizador.append(F.mse_loss(l,il) * self.alpha)\n",
    "                regularizador = torch.stack(regularizador).sum()\n",
    "                \n",
    "                g.append(verossimilhanca + regularizador)\n",
    "            gradients.append(torch.stack(g).sum())\n",
    "            \n",
    "        self.optimizer.zero_grad()\n",
    "        grad = torch.stack(gradients).sum()\n",
    "        grad.backward()\n",
    "        self.optimizer.step()"
   ]
  },
  {
   "cell_type": "code",
   "execution_count": 12,
   "metadata": {},
   "outputs": [],
   "source": [
    "model = ModelWithNoRegressors(5,0)"
   ]
  },
  {
   "cell_type": "markdown",
   "metadata": {},
   "source": [
    "# Treinar por 100 epochs"
   ]
  },
  {
   "cell_type": "code",
   "execution_count": 9,
   "metadata": {},
   "outputs": [
    {
     "data": {
      "application/vnd.jupyter.widget-view+json": {
       "model_id": "fd8d8d4caa1b4bf6aacaf97dae1cb67a",
       "version_major": 2,
       "version_minor": 0
      },
      "text/plain": [
       "HBox(children=(IntProgress(value=0, max=1000), HTML(value='')))"
      ]
     },
     "metadata": {},
     "output_type": "display_data"
    },
    {
     "name": "stdout",
     "output_type": "stream",
     "text": [
      "\n"
     ]
    }
   ],
   "source": [
    "for i in tqdm(range(1000)):\n",
    "    lambdas = model.forward()\n",
    "    model.backward(Y,lambdas)"
   ]
  },
  {
   "cell_type": "markdown",
   "metadata": {},
   "source": [
    "# Avaliar evolução dos parâmetros"
   ]
  },
  {
   "cell_type": "code",
   "execution_count": 10,
   "metadata": {},
   "outputs": [
    {
     "data": {
      "image/png": "[encoded data removed]",
      "text/plain": [
       "<Figure size 576x720 with 5 Axes>"
      ]
     },
     "metadata": {
      "needs_background": "light"
     },
     "output_type": "display_data"
    }
   ],
   "source": [
    "fig,axes = plt.subplots(nrows=len(Y),ncols=1,figsize=(8,10))\n",
    "\n",
    "for i,p in enumerate(np.array(model.params_hist).transpose()):\n",
    "    orig_lambda = true_lambdas[i]\n",
    "    real_mean   = np.mean(Y,1)[i]\n",
    "    \n",
    "    axes[i].plot(p)\n",
    "    axes[i].scatter([len(p)],[orig_lambda])\n",
    "    axes[i].scatter([len(p)],[real_mean])"
   ]
  }
 ],
 "metadata": {
  "kernelspec": {
   "display_name": "Python 3",
   "language": "python",
   "name": "python3"
  },
  "language_info": {
   "codemirror_mode": {
    "name": "ipython",
    "version": 3
   },
   "file_extension": ".py",
   "mimetype": "text/x-python",
   "name": "python",
   "nbconvert_exporter": "python",
   "pygments_lexer": "ipython3",
   "version": "3.7.3"
  },
  "latex_envs": {
   "LaTeX_envs_menu_present": true,
   "autoclose": false,
   "autocomplete": true,
   "bibliofile": "biblio.bib",
   "cite_by": "apalike",
   "current_citInitial": 1,
   "eqLabelWithNumbers": true,
   "eqNumInitial": 1,
   "hotkeys": {
    "equation": "Ctrl-E",
    "itemize": "Ctrl-I"
   },
   "labels_anchors": false,
   "latex_user_defs": false,
   "report_style_numbering": false,
   "user_envs_cfg": false
  },
  "toc": {
   "base_numbering": 1,
   "nav_menu": {},
   "number_sections": true,
   "sideBar": true,
   "skip_h1_title": false,
   "title_cell": "Table of Contents",
   "title_sidebar": "Contents",
   "toc_cell": true,
   "toc_position": {},
   "toc_section_display": true,
   "toc_window_display": true
  }
 },
 "nbformat": 4,
 "nbformat_minor": 2
}
