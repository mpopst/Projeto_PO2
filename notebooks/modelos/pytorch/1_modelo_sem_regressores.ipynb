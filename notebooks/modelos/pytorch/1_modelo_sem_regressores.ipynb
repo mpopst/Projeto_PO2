{
 "cells": [
  {
   "cell_type": "markdown",
   "metadata": {
    "toc": true
   },
   "source": [
    "<h1>Table of Contents<span class=\"tocSkip\"></span></h1>\n",
    "<div class=\"toc\"><ul class=\"toc-item\"><li><span><a href=\"#Leitura-dos-dados-de-chamadas\" data-toc-modified-id=\"Leitura-dos-dados-de-chamadas-1\"><span class=\"toc-item-num\">1&nbsp;&nbsp;</span>Leitura dos dados de chamadas</a></span><ul class=\"toc-item\"><li><span><a href=\"#Coluna-1:-faixa-de-hora-no-dia\" data-toc-modified-id=\"Coluna-1:-faixa-de-hora-no-dia-1.1\"><span class=\"toc-item-num\">1.1&nbsp;&nbsp;</span>Coluna 1: faixa de hora no dia</a></span></li><li><span><a href=\"#Coluna-2:-tipo-de-dia\" data-toc-modified-id=\"Coluna-2:-tipo-de-dia-1.2\"><span class=\"toc-item-num\">1.2&nbsp;&nbsp;</span>Coluna 2: tipo de dia</a></span></li><li><span><a href=\"#Coluna-3:-bairro\" data-toc-modified-id=\"Coluna-3:-bairro-1.3\"><span class=\"toc-item-num\">1.3&nbsp;&nbsp;</span>Coluna 3: bairro</a></span></li><li><span><a href=\"#Coluna-4:-prioridade-da-chamada\" data-toc-modified-id=\"Coluna-4:-prioridade-da-chamada-1.4\"><span class=\"toc-item-num\">1.4&nbsp;&nbsp;</span>Coluna 4: prioridade da chamada</a></span></li><li><span><a href=\"#Coluna-5:-ocorrência\" data-toc-modified-id=\"Coluna-5:-ocorrência-1.5\"><span class=\"toc-item-num\">1.5&nbsp;&nbsp;</span>Coluna 5: ocorrência</a></span></li></ul></li><li><span><a href=\"#Criar-classe-do-modelo\" data-toc-modified-id=\"Criar-classe-do-modelo-2\"><span class=\"toc-item-num\">2&nbsp;&nbsp;</span>Criar classe do modelo</a></span></li><li><span><a href=\"#Treinar-por-100-epochs\" data-toc-modified-id=\"Treinar-por-100-epochs-3\"><span class=\"toc-item-num\">3&nbsp;&nbsp;</span>Treinar por 100 epochs</a></span></li><li><span><a href=\"#Avaliar-evolução-dos-parâmetros\" data-toc-modified-id=\"Avaliar-evolução-dos-parâmetros-4\"><span class=\"toc-item-num\">4&nbsp;&nbsp;</span>Avaliar evolução dos parâmetros</a></span></li></ul></div>"
   ]
  },
  {
   "cell_type": "code",
   "execution_count": 1,
   "metadata": {},
   "outputs": [],
   "source": [
    "import sys\n",
    "import torch\n",
    "import numpy as np  \n",
    "\n",
    "from tqdm.notebook import tqdm\n",
    "\n",
    "import torch.nn as nn\n",
    "import torch.optim as optim\n",
    "import torch.nn.functional as F\n",
    "\n",
    "from torch.autograd import Variable\n",
    "\n",
    "import matplotlib.pyplot as plt"
   ]
  },
  {
   "cell_type": "code",
   "execution_count": 2,
   "metadata": {},
   "outputs": [],
   "source": [
    "sys.path.append('../../..')\n",
    "from config import *\n",
    "from utils import *"
   ]
  },
  {
   "cell_type": "markdown",
   "metadata": {},
   "source": [
    "# Leitura dos dados de chamadas"
   ]
  },
  {
   "cell_type": "code",
   "execution_count": 3,
   "metadata": {},
   "outputs": [],
   "source": [
    "df = pd.read_pickle(os.path.join(TRTD_DATA_PATH,'eventos.pkl'))"
   ]
  },
  {
   "cell_type": "markdown",
   "metadata": {},
   "source": [
    "## Coluna 1: faixa de hora no dia"
   ]
  },
  {
   "cell_type": "code",
   "execution_count": 4,
   "metadata": {},
   "outputs": [
    {
     "data": {
      "text/plain": [
       "array([ 1,  2,  3,  4,  5,  6,  7,  8,  9, 10, 11, 12, 13, 14, 15, 16, 17,\n",
       "       18, 19, 20, 21, 22, 23, 24, 25, 26, 27, 28, 29, 30, 31, 32, 33, 34,\n",
       "       35, 36, 37, 38, 39, 40, 41, 42, 43, 44, 45, 46, 47, 48])"
      ]
     },
     "execution_count": 4,
     "metadata": {},
     "output_type": "execute_result"
    }
   ],
   "source": [
    "col1 = 't'\n",
    "df[col1].sort_values().unique()"
   ]
  },
  {
   "cell_type": "code",
   "execution_count": 5,
   "metadata": {},
   "outputs": [],
   "source": [
    "n1 = 48"
   ]
  },
  {
   "cell_type": "markdown",
   "metadata": {},
   "source": [
    "## Coluna 2: tipo de dia"
   ]
  },
  {
   "cell_type": "code",
   "execution_count": 6,
   "metadata": {},
   "outputs": [
    {
     "data": {
      "text/plain": [
       "array([1, 2], dtype=int64)"
      ]
     },
     "execution_count": 6,
     "metadata": {},
     "output_type": "execute_result"
    }
   ],
   "source": [
    "col2 = 'grupo_dia'\n",
    "df[col2].sort_values().unique()"
   ]
  },
  {
   "cell_type": "code",
   "execution_count": 7,
   "metadata": {},
   "outputs": [],
   "source": [
    "n2 = 2"
   ]
  },
  {
   "cell_type": "markdown",
   "metadata": {},
   "source": [
    "## Coluna 3: bairro"
   ]
  },
  {
   "cell_type": "code",
   "execution_count": 8,
   "metadata": {
    "scrolled": true
   },
   "outputs": [
    {
     "data": {
      "text/plain": [
       "array(['Abolição', 'Acari', 'Alto da Boa Vista', 'Anchieta', 'Andaraí',\n",
       "       'Anil', 'Balneário Globo II', 'Bancários', 'Bangu',\n",
       "       'Barra da Tijuca', 'Barros Filho', 'Benfica', 'Bento Ribeiro',\n",
       "       'Bonsucesso', 'Botafogo', 'Brás de Pina', 'Cachambi', 'Cacuia',\n",
       "       'Caju', 'Camorim', 'Campinho', 'Campo Grande', 'Campo dos Afonsos',\n",
       "       'Cascadura', 'Catete', 'Catumbi', 'Cavalcante', 'Centro',\n",
       "       'Cidade Nova',\n",
       "       'Cidade Universitária da Universidade Federal do Rio de Janeiro',\n",
       "       'Cidade de Deus', 'Cocotá', 'Coelho Neto', 'Colégio',\n",
       "       'Complexo do Alemão', 'Condomínio Ville Montagne', 'Copacabana',\n",
       "       'Cordovil', 'Cosme Velho', 'Cosmos', 'Costa Barros', 'Curicica',\n",
       "       'Curral Falso', 'Del Castilho', 'Deodoro', 'Divinéia',\n",
       "       'Duque De Caxias', 'ERRO: Fora do Rio de Janeiro (Austin)',\n",
       "       'ERRO: Fora do Rio de Janeiro (Belford Roxo)',\n",
       "       'ERRO: Fora do Rio de Janeiro (Duque de Caxias)',\n",
       "       'ERRO: Fora do Rio de Janeiro (Guapimirim)',\n",
       "       'ERRO: Fora do Rio de Janeiro (Itaguaí)',\n",
       "       'ERRO: Fora do Rio de Janeiro (Japeri)',\n",
       "       'ERRO: Fora do Rio de Janeiro (Magé)',\n",
       "       'ERRO: Fora do Rio de Janeiro (Maricá)',\n",
       "       'ERRO: Fora do Rio de Janeiro (Mesquita)',\n",
       "       'ERRO: Fora do Rio de Janeiro (Nilópolis)',\n",
       "       'ERRO: Fora do Rio de Janeiro (Niterói)',\n",
       "       'ERRO: Fora do Rio de Janeiro (Nova Iguaçu)',\n",
       "       'ERRO: Fora do Rio de Janeiro (Queimados)',\n",
       "       'ERRO: Fora do Rio de Janeiro (Santa Cruz)',\n",
       "       'ERRO: Fora do Rio de Janeiro (Seropédica)',\n",
       "       'ERRO: Fora do Rio de Janeiro (São Gonçalo)',\n",
       "       'ERRO: Fora do Rio de Janeiro (São João de Meriti)', 'Encantado',\n",
       "       'Eng. Leal', 'Engenho Novo', 'Engenho da Rainha',\n",
       "       'Engenho de Dentro', 'Estácio', 'Flamengo',\n",
       "       'Freguesia (Ilha do Governador)', 'Freguesia de Jacarepaguá',\n",
       "       'Galeão', 'Gamboa', 'Gardênia Azul', 'Gericinó', 'Glória',\n",
       "       'Grajau', 'Guadalupe', 'Guaratiba', 'Gávea', 'Higienópolis',\n",
       "       'Honório Gurgel', 'Humaitá', 'Inhauma', 'Inhoaíba', 'Ipanema',\n",
       "       'Irajá', 'Itanhangá', 'Jacarepaguá', 'Jacarezinho', 'Jacaré',\n",
       "       'Jardim America', 'Jardim Botânico', 'Jardim Carioca',\n",
       "       'Jardim Guanabara', 'Jardim Sulacap', 'Lagoa', 'Laranjeiras',\n",
       "       'Leblon', 'Leme', 'Lins de Vasconcelos', 'Madureira',\n",
       "       'Magalhães Bastos', 'Mal. Hermes', 'Mangueira', 'Manguinhos',\n",
       "       'Maracanã', 'Maria da Graça', 'Maré', 'Moneró',\n",
       "       'Morro da Joaquina', 'Méier', 'Nova Jérsei', 'Olaria',\n",
       "       'Oswaldo Cruz', 'Paciência', 'Padre Miguel', 'Parada de Lucas',\n",
       "       'Parque Anchieta', 'Parque Arará', 'Parque Colúmbia', 'Pavuna',\n",
       "       'Pechincha', 'Pedra de Guaratiba', 'Penha', 'Penha Circular',\n",
       "       'Piedade', 'Pilares', 'Pitangueiras', 'Portuguesa',\n",
       "       'Praca da Bandeira', 'Praia da Bandeira', 'Praça Seca',\n",
       "       'Quintino Bocaiuva', 'Ramos', 'Realengo',\n",
       "       'Recreio dos Bandeirantes', 'Riachuelo', 'Ribeira',\n",
       "       'Ricardo de Albuquerque', 'Rio Comprido', 'Rocha', 'Rocha Miranda',\n",
       "       'Rocinha', 'Sampaio', 'Santa Cruz', 'Santa Teresa', 'Santo Cristo',\n",
       "       'Santíssimo', 'Sen. Vasconcelos', 'Senador Camará', 'Sepetiba',\n",
       "       'São Conrado', 'São Cristóvão', 'São Francisco Xavier', 'Tanque',\n",
       "       'Taquara', 'Tauá', 'Tijuca', 'Todos os Santos', 'Tomás Coelho',\n",
       "       'Tres Pontes', 'Tubiacanga', 'Turiaçu', 'Urca', 'Vargem Grande',\n",
       "       'Vargem Pequena', 'Vasco da Gama', 'Vicente de Carvalho',\n",
       "       'Vidigal', 'Vigário Geral', 'Vila Cosmos', 'Vila Isabel',\n",
       "       'Vila Militar', 'Vila Sao Jorge', 'Vila Valqueire',\n",
       "       'Vila da Penha', 'Vista Alegre', 'Váz Lobo', 'Água Santa'],\n",
       "      dtype=object)"
      ]
     },
     "execution_count": 8,
     "metadata": {},
     "output_type": "execute_result"
    }
   ],
   "source": [
    "col3 = 'bairro'\n",
    "df[col3].sort_values().unique()"
   ]
  },
  {
   "cell_type": "code",
   "execution_count": 9,
   "metadata": {},
   "outputs": [],
   "source": [
    "bairros_validos = [b for b in df[col3].unique() if not('ERRO' in b)]\n",
    "map_bairros = {i:b for i,b in enumerate(bairros_validos)}"
   ]
  },
  {
   "cell_type": "code",
   "execution_count": 10,
   "metadata": {},
   "outputs": [],
   "source": [
    "n3 = len(bairros_validos)"
   ]
  },
  {
   "cell_type": "markdown",
   "metadata": {},
   "source": [
    "## Coluna 4: prioridade da chamada"
   ]
  },
  {
   "cell_type": "code",
   "execution_count": 11,
   "metadata": {},
   "outputs": [
    {
     "data": {
      "text/plain": [
       "array([1, 2, 3], dtype=int64)"
      ]
     },
     "execution_count": 11,
     "metadata": {},
     "output_type": "execute_result"
    }
   ],
   "source": [
    "col4 = 'TipoViatura'\n",
    "df[col4].sort_values().unique()"
   ]
  },
  {
   "cell_type": "code",
   "execution_count": 12,
   "metadata": {},
   "outputs": [],
   "source": [
    "n4 = 3"
   ]
  },
  {
   "cell_type": "code",
   "execution_count": 13,
   "metadata": {},
   "outputs": [
    {
     "data": {
      "text/plain": [
       "47520"
      ]
     },
     "execution_count": 13,
     "metadata": {},
     "output_type": "execute_result"
    }
   ],
   "source": [
    "N = n1*n2*n3*n4\n",
    "N"
   ]
  },
  {
   "cell_type": "markdown",
   "metadata": {},
   "source": [
    "## Coluna 5: ocorrência"
   ]
  },
  {
   "cell_type": "code",
   "execution_count": 14,
   "metadata": {},
   "outputs": [],
   "source": [
    "J = len(calcular_distribuicao(df,1,1,map_bairros[0],3))"
   ]
  },
  {
   "cell_type": "markdown",
   "metadata": {},
   "source": [
    "# Criar classe do modelo"
   ]
  },
  {
   "cell_type": "code",
   "execution_count": 56,
   "metadata": {},
   "outputs": [],
   "source": [
    "class ModelWithNoRegressors(nn.Module):\n",
    "    def __init__(self,n,a,eps=1e-2):\n",
    "        super(ModelWithNoRegressors, self).__init__()\n",
    "        \n",
    "        self.alpha = a\n",
    "        self.eps = eps\n",
    "        \n",
    "        self.linear1   = nn.Linear(1, n, bias=False)\n",
    "        self.optimizer = optim.SGD(self.parameters(), lr=0.01)\n",
    "        \n",
    "        self.linear1.weight.data.fill_(eps)\n",
    "        \n",
    "        self.params_hist = []\n",
    "\n",
    "    def forward(self,state=np.ones(1)):\n",
    "        x = self.linear1(torch.from_numpy(state).float())\n",
    "        x = F.relu(x) + self.eps\n",
    "        return x\n",
    "    \n",
    "    def backward(self,Y,lambdas):\n",
    "        \n",
    "        self.params_hist.append(self.forward().detach().numpy())\n",
    "           \n",
    "        Z = torch.zeros(len(Y))\n",
    "        Y = torch.tensor(Y) \n",
    "        \n",
    "        gradients = []\n",
    "        for iY,l,z in zip(Y,lambdas,Z):\n",
    "            g = []\n",
    "            for y in iY:\n",
    "                \n",
    "                verossimilhanca = l - y*torch.log(l)\n",
    "                \n",
    "#                 regularizador = []\n",
    "#                 for il in lambdas[:1]:\n",
    "#                     regularizador.append(F.mse_loss(l,il) * self.alpha)\n",
    "#                 regularizador = torch.stack(regularizador).sum()\n",
    "                \n",
    "                g.append(verossimilhanca) #+ regularizador)\n",
    "            gradients.append(torch.stack(g).sum())\n",
    "            \n",
    "        self.optimizer.zero_grad()\n",
    "        grad = torch.stack(gradients).sum()\n",
    "        grad.backward()\n",
    "        self.optimizer.step()"
   ]
  },
  {
   "cell_type": "code",
   "execution_count": 57,
   "metadata": {},
   "outputs": [],
   "source": [
    "model = ModelWithNoRegressors(N,0)"
   ]
  },
  {
   "cell_type": "markdown",
   "metadata": {},
   "source": [
    "# Treinar por 100 epochs"
   ]
  },
  {
   "cell_type": "code",
   "execution_count": 37,
   "metadata": {},
   "outputs": [],
   "source": [
    "Y = np.zeros(shape=(n1,n2,n3,n4,J))\n",
    "\n",
    "for t in [16]:#range(1,n1+1)[:1]:\n",
    "    df1 = df[df[col1]==t].copy()\n",
    "    \n",
    "    for g in [1]:#range(1,n2+1):\n",
    "        df2 = df1[df1[col2]==g].copy()\n",
    "        \n",
    "        for b in range(n3):\n",
    "            i = map_bairros[b]\n",
    "            df3 = df2[df2[col3]==i].copy()\n",
    "            \n",
    "            for p in [3]:#range(1,n4+1):\n",
    "                df4 = df3[df3[col4]==p]\n",
    "                \n",
    "                Y[t-1,g-1,b,p-1] = calcular_distribuicao(df4,t,g,i,p,\n",
    "                                               dt_range=pd.date_range(df['data'].min(),df['data'].max(),freq='D')\n",
    "                                              )"
   ]
  },
  {
   "cell_type": "code",
   "execution_count": 38,
   "metadata": {},
   "outputs": [],
   "source": [
    "Y1 = Y[15,0,:,2]"
   ]
  },
  {
   "cell_type": "code",
   "execution_count": 58,
   "metadata": {
    "scrolled": true
   },
   "outputs": [
    {
     "name": "stderr",
     "output_type": "stream",
     "text": [
      "\n",
      "\n",
      "\n",
      "\n",
      "  0%|                                                                                           | 0/10 [00:00<?, ?it/s]\u001b[A\u001b[A\u001b[A\u001b[A\n",
      "\n",
      "\n",
      "\n",
      " 10%|████████▎                                                                          | 1/10 [00:08<01:13,  8.19s/it]\u001b[A\u001b[A\u001b[A\u001b[A\n",
      "\n",
      "\n",
      "\n",
      " 20%|████████████████▌                                                                  | 2/10 [00:16<01:06,  8.29s/it]\u001b[A\u001b[A\u001b[A\u001b[A\n",
      "\n",
      "\n",
      "\n",
      " 30%|████████████████████████▉                                                          | 3/10 [00:24<00:57,  8.17s/it]\u001b[A\u001b[A\u001b[A\u001b[A\n",
      "\n",
      "\n",
      "\n",
      " 40%|█████████████████████████████████▏                                                 | 4/10 [00:32<00:48,  8.11s/it]\u001b[A\u001b[A\u001b[A\u001b[A\n",
      "\n",
      "\n",
      "\n",
      " 50%|█████████████████████████████████████████▌                                         | 5/10 [00:41<00:41,  8.21s/it]\u001b[A\u001b[A\u001b[A\u001b[A\n",
      "\n",
      "\n",
      "\n",
      " 60%|█████████████████████████████████████████████████▊                                 | 6/10 [00:48<00:32,  8.05s/it]\u001b[A\u001b[A\u001b[A\u001b[A\n",
      "\n",
      "\n",
      "\n",
      " 70%|██████████████████████████████████████████████████████████                         | 7/10 [00:57<00:25,  8.39s/it]\u001b[A\u001b[A\u001b[A\u001b[A\n",
      "\n",
      "\n",
      "\n",
      " 80%|██████████████████████████████████████████████████████████████████▍                | 8/10 [01:06<00:16,  8.43s/it]\u001b[A\u001b[A\u001b[A\u001b[A\n",
      "\n",
      "\n",
      "\n",
      " 90%|██████████████████████████████████████████████████████████████████████████▋        | 9/10 [01:15<00:08,  8.69s/it]\u001b[A\u001b[A\u001b[A\u001b[A\n",
      "\n",
      "\n",
      "\n",
      "100%|██████████████████████████████████████████████████████████████████████████████████| 10/10 [01:25<00:00,  8.54s/it]\u001b[A\u001b[A\u001b[A\u001b[A\n"
     ]
    }
   ],
   "source": [
    "for i in tqdm(range(10)):\n",
    "    lambdas = model.forward()\n",
    "    model.backward(Y1,lambdas)"
   ]
  },
  {
   "cell_type": "markdown",
   "metadata": {},
   "source": [
    "# Avaliar evolução dos parâmetros"
   ]
  },
  {
   "cell_type": "code",
   "execution_count": 61,
   "metadata": {},
   "outputs": [
    {
     "data": {
      "image/png": "[encoded data removed]",
      "text/plain": [
       "<Figure size 576x720 with 5 Axes>"
      ]
     },
     "metadata": {
      "needs_background": "light"
     },
     "output_type": "display_data"
    }
   ],
   "source": [
    "Y2 = Y1[:5]\n",
    "fig,axes = plt.subplots(nrows=5,ncols=1,figsize=(8,10))\n",
    "\n",
    "for i,p in enumerate(np.array(model.params_hist).transpose()):\n",
    "\n",
    "    try:\n",
    "        real_mean   = Y2[i].mean()\n",
    "\n",
    "        axes[i].plot(p)\n",
    "        axes[i].scatter([len(p)],[real_mean])\n",
    "    except:\n",
    "        break"
   ]
  }
 ],
 "metadata": {
  "kernelspec": {
   "display_name": "Python 3",
   "language": "python",
   "name": "python3"
  },
  "language_info": {
   "codemirror_mode": {
    "name": "ipython",
    "version": 3
   },
   "file_extension": ".py",
   "mimetype": "text/x-python",
   "name": "python",
   "nbconvert_exporter": "python",
   "pygments_lexer": "ipython3",
   "version": "3.7.3"
  },
  "latex_envs": {
   "LaTeX_envs_menu_present": true,
   "autoclose": false,
   "autocomplete": true,
   "bibliofile": "biblio.bib",
   "cite_by": "apalike",
   "current_citInitial": 1,
   "eqLabelWithNumbers": true,
   "eqNumInitial": 1,
   "hotkeys": {
    "equation": "Ctrl-E",
    "itemize": "Ctrl-I"
   },
   "labels_anchors": false,
   "latex_user_defs": false,
   "report_style_numbering": false,
   "user_envs_cfg": false
  },
  "toc": {
   "base_numbering": 1,
   "nav_menu": {},
   "number_sections": true,
   "sideBar": true,
   "skip_h1_title": false,
   "title_cell": "Table of Contents",
   "title_sidebar": "Contents",
   "toc_cell": true,
   "toc_position": {},
   "toc_section_display": true,
   "toc_window_display": true
  }
 },
 "nbformat": 4,
 "nbformat_minor": 2
}
