{
 "cells": [
  {
   "cell_type": "markdown",
   "metadata": {
    "toc": true
   },
   "source": [
    "<h1>Table of Contents<span class=\"tocSkip\"></span></h1>\n",
    "<div class=\"toc\"><ul class=\"toc-item\"><li><span><a href=\"#Import-de-pacotes\" data-toc-modified-id=\"Import-de-pacotes-1\"><span class=\"toc-item-num\">1&nbsp;&nbsp;</span>Import de pacotes</a></span></li><li><span><a href=\"#Leitura-do-dado-tratado\" data-toc-modified-id=\"Leitura-do-dado-tratado-2\"><span class=\"toc-item-num\">2&nbsp;&nbsp;</span>Leitura do dado tratado</a></span></li><li><span><a href=\"#Modelo-naive\" data-toc-modified-id=\"Modelo-naive-3\"><span class=\"toc-item-num\">3&nbsp;&nbsp;</span>Modelo naive</a></span><ul class=\"toc-item\"><li><span><a href=\"#Exemplo\" data-toc-modified-id=\"Exemplo-3.1\"><span class=\"toc-item-num\">3.1&nbsp;&nbsp;</span>Exemplo</a></span></li><li><span><a href=\"#Exemplo-iterativo-em-t\" data-toc-modified-id=\"Exemplo-iterativo-em-t-3.2\"><span class=\"toc-item-num\">3.2&nbsp;&nbsp;</span>Exemplo iterativo em t</a></span></li></ul></li></ul></div>"
   ]
  },
  {
   "cell_type": "markdown",
   "metadata": {},
   "source": [
    "## Import de pacotes"
   ]
  },
  {
   "cell_type": "code",
   "execution_count": 1,
   "metadata": {},
   "outputs": [
    {
     "output_type": "display_data",
     "data": {
      "text/html": "        <script type=\"text/javascript\">\n        window.PlotlyConfig = {MathJaxConfig: 'local'};\n        if (window.MathJax) {MathJax.Hub.Config({SVG: {font: \"STIX-Web\"}});}\n        if (typeof require !== 'undefined') {\n        require.undef(\"plotly\");\n        requirejs.config({\n            paths: {\n                'plotly': ['https://cdn.plot.ly/plotly-latest.min']\n            }\n        });\n        require(['plotly'], function(Plotly) {\n            window._Plotly = Plotly;\n        });\n        }\n        </script>\n        "
     },
     "metadata": {}
    }
   ],
   "source": [
    "import os,sys\n",
    "import datetime\n",
    "import numpy as np\n",
    "import pandas as pd\n",
    "import matplotlib.pyplot as plt\n",
    "from tqdm.notebook import tqdm\n",
    "from math import factorial\n",
    "\n",
    "from scipy import stats\n",
    "\n",
    "import plotly.graph_objs as go\n",
    "import plotly.express as px\n",
    "from plotly.offline import init_notebook_mode\n",
    "init_notebook_mode(connected=True)"
   ]
  },
  {
   "cell_type": "code",
   "execution_count": 2,
   "metadata": {},
   "outputs": [],
   "source": [
    "from ortools.linear_solver import pywraplp\n",
    "from ortools.sat.python import cp_model\n",
    "\n",
    "sys.path.append('../..')\n",
    "from config import *\n",
    "from utils import *"
   ]
  },
  {
   "cell_type": "markdown",
   "metadata": {},
   "source": [
    "## Leitura do dado tratado"
   ]
  },
  {
   "cell_type": "code",
   "execution_count": 22,
   "metadata": {
    "scrolled": true
   },
   "outputs": [],
   "source": [
    "df = pd.read_pickle(os.path.join(TRTD_DATA_PATH,'eventos.pkl'))"
   ]
  },
  {
   "cell_type": "code",
   "execution_count": 23,
   "metadata": {},
   "outputs": [
    {
     "output_type": "execute_result",
     "data": {
      "text/plain": [
       "              data_idx  Prioridade  TotalViaturas   latitude  longitude  \\\n",
       "1  2016-01-01 02:13:00           0              1 -22.876186 -43.675890   \n",
       "3  2016-01-01 02:17:00           1              1 -22.906627 -43.293335   \n",
       "6  2016-01-01 02:28:00           0              1 -23.012424 -43.541721   \n",
       "15 2016-01-01 02:51:00           0              2 -22.851838 -43.357152   \n",
       "20 2016-01-01 03:00:00           0              1 -22.824990 -43.392745   \n",
       "\n",
       "         data     hora  p                    Coordenadas  g        lat  \\\n",
       "1  2016-01-01  2:13:05  1   POINT (-43.67589 -22.876186)  1 -43.675890   \n",
       "3  2016-01-01  2:17:06  2  POINT (-43.293335 -22.906627)  1 -43.293335   \n",
       "6  2016-01-01  2:28:08  1  POINT (-43.541721 -23.012424)  1 -43.541721   \n",
       "15 2016-01-01  2:51:25  1  POINT (-43.357152 -22.851838)  1 -43.357152   \n",
       "20 2016-01-01  3:00:47  1   POINT (-43.392745 -22.82499)  1 -43.392745   \n",
       "\n",
       "          lon                     geometry    i         nome_bairro  t  \n",
       "1  -22.876186  POINT (-43.67589 -22.87619)  149          Santa Cruz  5  \n",
       "3  -22.906627  POINT (-43.29333 -22.90663)   66   Engenho De Dentro  5  \n",
       "6  -23.012424  POINT (-43.54172 -23.01242)  152  Barra De Guaratiba  5  \n",
       "15 -22.851838  POINT (-43.35715 -22.85184)   87      Honório Gurgel  6  \n",
       "20 -22.824990  POINT (-43.39274 -22.82499)  107            Anchieta  7  "
      ],
      "text/html": "<div>\n<style scoped>\n    .dataframe tbody tr th:only-of-type {\n        vertical-align: middle;\n    }\n\n    .dataframe tbody tr th {\n        vertical-align: top;\n    }\n\n    .dataframe thead th {\n        text-align: right;\n    }\n</style>\n<table border=\"1\" class=\"dataframe\">\n  <thead>\n    <tr style=\"text-align: right;\">\n      <th></th>\n      <th>data_idx</th>\n      <th>Prioridade</th>\n      <th>TotalViaturas</th>\n      <th>latitude</th>\n      <th>longitude</th>\n      <th>data</th>\n      <th>hora</th>\n      <th>p</th>\n      <th>Coordenadas</th>\n      <th>g</th>\n      <th>lat</th>\n      <th>lon</th>\n      <th>geometry</th>\n      <th>i</th>\n      <th>nome_bairro</th>\n      <th>t</th>\n    </tr>\n  </thead>\n  <tbody>\n    <tr>\n      <th>1</th>\n      <td>2016-01-01 02:13:00</td>\n      <td>0</td>\n      <td>1</td>\n      <td>-22.876186</td>\n      <td>-43.675890</td>\n      <td>2016-01-01</td>\n      <td>2:13:05</td>\n      <td>1</td>\n      <td>POINT (-43.67589 -22.876186)</td>\n      <td>1</td>\n      <td>-43.675890</td>\n      <td>-22.876186</td>\n      <td>POINT (-43.67589 -22.87619)</td>\n      <td>149</td>\n      <td>Santa Cruz</td>\n      <td>5</td>\n    </tr>\n    <tr>\n      <th>3</th>\n      <td>2016-01-01 02:17:00</td>\n      <td>1</td>\n      <td>1</td>\n      <td>-22.906627</td>\n      <td>-43.293335</td>\n      <td>2016-01-01</td>\n      <td>2:17:06</td>\n      <td>2</td>\n      <td>POINT (-43.293335 -22.906627)</td>\n      <td>1</td>\n      <td>-43.293335</td>\n      <td>-22.906627</td>\n      <td>POINT (-43.29333 -22.90663)</td>\n      <td>66</td>\n      <td>Engenho De Dentro</td>\n      <td>5</td>\n    </tr>\n    <tr>\n      <th>6</th>\n      <td>2016-01-01 02:28:00</td>\n      <td>0</td>\n      <td>1</td>\n      <td>-23.012424</td>\n      <td>-43.541721</td>\n      <td>2016-01-01</td>\n      <td>2:28:08</td>\n      <td>1</td>\n      <td>POINT (-43.541721 -23.012424)</td>\n      <td>1</td>\n      <td>-43.541721</td>\n      <td>-23.012424</td>\n      <td>POINT (-43.54172 -23.01242)</td>\n      <td>152</td>\n      <td>Barra De Guaratiba</td>\n      <td>5</td>\n    </tr>\n    <tr>\n      <th>15</th>\n      <td>2016-01-01 02:51:00</td>\n      <td>0</td>\n      <td>2</td>\n      <td>-22.851838</td>\n      <td>-43.357152</td>\n      <td>2016-01-01</td>\n      <td>2:51:25</td>\n      <td>1</td>\n      <td>POINT (-43.357152 -22.851838)</td>\n      <td>1</td>\n      <td>-43.357152</td>\n      <td>-22.851838</td>\n      <td>POINT (-43.35715 -22.85184)</td>\n      <td>87</td>\n      <td>Honório Gurgel</td>\n      <td>6</td>\n    </tr>\n    <tr>\n      <th>20</th>\n      <td>2016-01-01 03:00:00</td>\n      <td>0</td>\n      <td>1</td>\n      <td>-22.824990</td>\n      <td>-43.392745</td>\n      <td>2016-01-01</td>\n      <td>3:00:47</td>\n      <td>1</td>\n      <td>POINT (-43.392745 -22.82499)</td>\n      <td>1</td>\n      <td>-43.392745</td>\n      <td>-22.824990</td>\n      <td>POINT (-43.39274 -22.82499)</td>\n      <td>107</td>\n      <td>Anchieta</td>\n      <td>7</td>\n    </tr>\n  </tbody>\n</table>\n</div>"
     },
     "metadata": {},
     "execution_count": 23
    }
   ],
   "source": [
    "df.head()"
   ]
  },
  {
   "cell_type": "markdown",
   "metadata": {},
   "source": [
    "## Modelo naive"
   ]
  },
  {
   "cell_type": "code",
   "execution_count": 5,
   "metadata": {},
   "outputs": [],
   "source": [
    "def likelihood(d,mu):\n",
    "    return sum([mu - y*np.log(mu) for y in d])\n",
    "\n",
    "class NaiveModel:\n",
    "    def __init__(self):\n",
    "        self.lambda_ = None\n",
    "        self.dist = None\n",
    "        self.likelihood = None\n",
    "    \n",
    "    def fit(self,s):\n",
    "        self.dist = s\n",
    "        self.lambda_ = s.mean()\n",
    "        \n",
    "        self.likelihood = likelihood(self.dist,self.lambda_)\n",
    "        \n",
    "    def pdf(self):\n",
    "        return np.array([stats.poisson(self.lambda_).pmf(x) for x in range(1,4)])"
   ]
  },
  {
   "cell_type": "markdown",
   "metadata": {},
   "source": [
    "### Exemplo"
   ]
  },
  {
   "cell_type": "code",
   "execution_count": 86,
   "metadata": {},
   "outputs": [
    {
     "output_type": "execute_result",
     "data": {
      "text/plain": [
       "230.05127625669888"
      ]
     },
     "metadata": {},
     "execution_count": 86
    }
   ],
   "source": [
    "model = NaiveModel()\n",
    "d = calcular_distribuicao(df,38,1,144,1)\n",
    "model.fit(d)\n",
    "model.likelihood"
   ]
  },
  {
   "cell_type": "code",
   "execution_count": 87,
   "metadata": {},
   "outputs": [
    {
     "output_type": "stream",
     "name": "stdout",
     "text": [
      "0.1532567049808429\n"
     ]
    },
    {
     "output_type": "display_data",
     "data": {
      "text/plain": "<Figure size 432x288 with 1 Axes>",
      "image/svg+xml": "<?xml version=\"1.0\" encoding=\"utf-8\" standalone=\"no\"?>\r\n<!DOCTYPE svg PUBLIC \"-//W3C//DTD SVG 1.1//EN\"\r\n  \"http://www.w3.org/Graphics/SVG/1.1/DTD/svg11.dtd\">\r\n<!-- Created with matplotlib (https://matplotlib.org/) -->\r\n<svg height=\"248.518125pt\" version=\"1.1\" viewBox=\"0 0 372.103125 248.518125\" width=\"372.103125pt\" xmlns=\"http://www.w3.org/2000/svg\" xmlns:xlink=\"http://www.w3.org/1999/xlink\">\r\n <metadata>\r\n  <rdf:RDF xmlns:cc=\"http://creativecommons.org/ns#\" xmlns:dc=\"http://purl.org/dc/elements/1.1/\" xmlns:rdf=\"http://www.w3.org/1999/02/22-rdf-syntax-ns#\">\r\n   <cc:Work>\r\n    <dc:type rdf:resource=\"http://purl.org/dc/dcmitype/StillImage\"/>\r\n    <dc:date>2020-11-20T13:40:18.474813</dc:date>\r\n    <dc:format>image/svg+xml</dc:format>\r\n    <dc:creator>\r\n     <cc:Agent>\r\n      <dc:title>Matplotlib v3.3.0, https://matplotlib.org/</dc:title>\r\n     </cc:Agent>\r\n    </dc:creator>\r\n   </cc:Work>\r\n  </rdf:RDF>\r\n </metadata>\r\n <defs>\r\n  <style type=\"text/css\">*{stroke-linecap:butt;stroke-linejoin:round;}</style>\r\n </defs>\r\n <g id=\"figure_1\">\r\n  <g id=\"patch_1\">\r\n   <path d=\"M 0 248.518125 \r\nL 372.103125 248.518125 \r\nL 372.103125 0 \r\nL 0 0 \r\nz\r\n\" style=\"fill:none;\"/>\r\n  </g>\r\n  <g id=\"axes_1\">\r\n   <g id=\"patch_2\">\r\n    <path d=\"M 30.103125 224.64 \r\nL 364.903125 224.64 \r\nL 364.903125 7.2 \r\nL 30.103125 7.2 \r\nz\r\n\" style=\"fill:#ffffff;\"/>\r\n   </g>\r\n   <g id=\"patch_3\">\r\n    <path clip-path=\"url(#pa89b843f6d)\" d=\"M 45.321307 224.64 \r\nL 74.30832 224.64 \r\nL 74.30832 17.554286 \r\nL 45.321307 17.554286 \r\nz\r\n\" style=\"fill:#1f77b4;\"/>\r\n   </g>\r\n   <g id=\"patch_4\">\r\n    <path clip-path=\"url(#pa89b843f6d)\" d=\"M 81.555073 224.64 \r\nL 110.542086 224.64 \r\nL 110.542086 194.267429 \r\nL 81.555073 194.267429 \r\nz\r\n\" style=\"fill:#1f77b4;\"/>\r\n   </g>\r\n   <g id=\"patch_5\">\r\n    <path clip-path=\"url(#pa89b843f6d)\" d=\"M 117.788839 224.64 \r\nL 146.775852 224.64 \r\nL 146.775852 222.339048 \r\nL 117.788839 222.339048 \r\nz\r\n\" style=\"fill:#1f77b4;\"/>\r\n   </g>\r\n   <g id=\"patch_6\">\r\n    <path clip-path=\"url(#pa89b843f6d)\" d=\"M 190.256372 224.64 \r\nL 219.243385 224.64 \r\nL 219.243385 224.17981 \r\nL 190.256372 224.17981 \r\nz\r\n\" style=\"fill:#1f77b4;\"/>\r\n   </g>\r\n   <g id=\"matplotlib.axis_1\">\r\n    <g id=\"xtick_1\">\r\n     <g id=\"line2d_1\">\r\n      <defs>\r\n       <path d=\"M 0 0 \r\nL 0 3.5 \r\n\" id=\"m7ab617052e\" style=\"stroke:#000000;stroke-width:0.8;\"/>\r\n      </defs>\r\n      <g>\r\n       <use style=\"stroke:#000000;stroke-width:0.8;\" x=\"59.814813\" xlink:href=\"#m7ab617052e\" y=\"224.64\"/>\r\n      </g>\r\n     </g>\r\n     <g id=\"text_1\">\r\n      <!-- 0 -->\r\n      <g transform=\"translate(56.633563 239.238437)scale(0.1 -0.1)\">\r\n       <defs>\r\n        <path d=\"M 31.78125 66.40625 \r\nQ 24.171875 66.40625 20.328125 58.90625 \r\nQ 16.5 51.421875 16.5 36.375 \r\nQ 16.5 21.390625 20.328125 13.890625 \r\nQ 24.171875 6.390625 31.78125 6.390625 \r\nQ 39.453125 6.390625 43.28125 13.890625 \r\nQ 47.125 21.390625 47.125 36.375 \r\nQ 47.125 51.421875 43.28125 58.90625 \r\nQ 39.453125 66.40625 31.78125 66.40625 \r\nz\r\nM 31.78125 74.21875 \r\nQ 44.046875 74.21875 50.515625 64.515625 \r\nQ 56.984375 54.828125 56.984375 36.375 \r\nQ 56.984375 17.96875 50.515625 8.265625 \r\nQ 44.046875 -1.421875 31.78125 -1.421875 \r\nQ 19.53125 -1.421875 13.0625 8.265625 \r\nQ 6.59375 17.96875 6.59375 36.375 \r\nQ 6.59375 54.828125 13.0625 64.515625 \r\nQ 19.53125 74.21875 31.78125 74.21875 \r\nz\r\n\" id=\"DejaVuSans-48\"/>\r\n       </defs>\r\n       <use xlink:href=\"#DejaVuSans-48\"/>\r\n      </g>\r\n     </g>\r\n    </g>\r\n    <g id=\"xtick_2\">\r\n     <g id=\"line2d_2\">\r\n      <g>\r\n       <use style=\"stroke:#000000;stroke-width:0.8;\" x=\"132.282346\" xlink:href=\"#m7ab617052e\" y=\"224.64\"/>\r\n      </g>\r\n     </g>\r\n     <g id=\"text_2\">\r\n      <!-- 2 -->\r\n      <g transform=\"translate(129.101096 239.238437)scale(0.1 -0.1)\">\r\n       <defs>\r\n        <path d=\"M 19.1875 8.296875 \r\nL 53.609375 8.296875 \r\nL 53.609375 0 \r\nL 7.328125 0 \r\nL 7.328125 8.296875 \r\nQ 12.9375 14.109375 22.625 23.890625 \r\nQ 32.328125 33.6875 34.8125 36.53125 \r\nQ 39.546875 41.84375 41.421875 45.53125 \r\nQ 43.3125 49.21875 43.3125 52.78125 \r\nQ 43.3125 58.59375 39.234375 62.25 \r\nQ 35.15625 65.921875 28.609375 65.921875 \r\nQ 23.96875 65.921875 18.8125 64.3125 \r\nQ 13.671875 62.703125 7.8125 59.421875 \r\nL 7.8125 69.390625 \r\nQ 13.765625 71.78125 18.9375 73 \r\nQ 24.125 74.21875 28.421875 74.21875 \r\nQ 39.75 74.21875 46.484375 68.546875 \r\nQ 53.21875 62.890625 53.21875 53.421875 \r\nQ 53.21875 48.921875 51.53125 44.890625 \r\nQ 49.859375 40.875 45.40625 35.40625 \r\nQ 44.1875 33.984375 37.640625 27.21875 \r\nQ 31.109375 20.453125 19.1875 8.296875 \r\nz\r\n\" id=\"DejaVuSans-50\"/>\r\n       </defs>\r\n       <use xlink:href=\"#DejaVuSans-50\"/>\r\n      </g>\r\n     </g>\r\n    </g>\r\n    <g id=\"xtick_3\">\r\n     <g id=\"line2d_3\">\r\n      <g>\r\n       <use style=\"stroke:#000000;stroke-width:0.8;\" x=\"204.749878\" xlink:href=\"#m7ab617052e\" y=\"224.64\"/>\r\n      </g>\r\n     </g>\r\n     <g id=\"text_3\">\r\n      <!-- 4 -->\r\n      <g transform=\"translate(201.568628 239.238437)scale(0.1 -0.1)\">\r\n       <defs>\r\n        <path d=\"M 37.796875 64.3125 \r\nL 12.890625 25.390625 \r\nL 37.796875 25.390625 \r\nz\r\nM 35.203125 72.90625 \r\nL 47.609375 72.90625 \r\nL 47.609375 25.390625 \r\nL 58.015625 25.390625 \r\nL 58.015625 17.1875 \r\nL 47.609375 17.1875 \r\nL 47.609375 0 \r\nL 37.796875 0 \r\nL 37.796875 17.1875 \r\nL 4.890625 17.1875 \r\nL 4.890625 26.703125 \r\nz\r\n\" id=\"DejaVuSans-52\"/>\r\n       </defs>\r\n       <use xlink:href=\"#DejaVuSans-52\"/>\r\n      </g>\r\n     </g>\r\n    </g>\r\n    <g id=\"xtick_4\">\r\n     <g id=\"line2d_4\">\r\n      <g>\r\n       <use style=\"stroke:#000000;stroke-width:0.8;\" x=\"277.217411\" xlink:href=\"#m7ab617052e\" y=\"224.64\"/>\r\n      </g>\r\n     </g>\r\n     <g id=\"text_4\">\r\n      <!-- 6 -->\r\n      <g transform=\"translate(274.036161 239.238437)scale(0.1 -0.1)\">\r\n       <defs>\r\n        <path d=\"M 33.015625 40.375 \r\nQ 26.375 40.375 22.484375 35.828125 \r\nQ 18.609375 31.296875 18.609375 23.390625 \r\nQ 18.609375 15.53125 22.484375 10.953125 \r\nQ 26.375 6.390625 33.015625 6.390625 \r\nQ 39.65625 6.390625 43.53125 10.953125 \r\nQ 47.40625 15.53125 47.40625 23.390625 \r\nQ 47.40625 31.296875 43.53125 35.828125 \r\nQ 39.65625 40.375 33.015625 40.375 \r\nz\r\nM 52.59375 71.296875 \r\nL 52.59375 62.3125 \r\nQ 48.875 64.0625 45.09375 64.984375 \r\nQ 41.3125 65.921875 37.59375 65.921875 \r\nQ 27.828125 65.921875 22.671875 59.328125 \r\nQ 17.53125 52.734375 16.796875 39.40625 \r\nQ 19.671875 43.65625 24.015625 45.921875 \r\nQ 28.375 48.1875 33.59375 48.1875 \r\nQ 44.578125 48.1875 50.953125 41.515625 \r\nQ 57.328125 34.859375 57.328125 23.390625 \r\nQ 57.328125 12.15625 50.6875 5.359375 \r\nQ 44.046875 -1.421875 33.015625 -1.421875 \r\nQ 20.359375 -1.421875 13.671875 8.265625 \r\nQ 6.984375 17.96875 6.984375 36.375 \r\nQ 6.984375 53.65625 15.1875 63.9375 \r\nQ 23.390625 74.21875 37.203125 74.21875 \r\nQ 40.921875 74.21875 44.703125 73.484375 \r\nQ 48.484375 72.75 52.59375 71.296875 \r\nz\r\n\" id=\"DejaVuSans-54\"/>\r\n       </defs>\r\n       <use xlink:href=\"#DejaVuSans-54\"/>\r\n      </g>\r\n     </g>\r\n    </g>\r\n    <g id=\"xtick_5\">\r\n     <g id=\"line2d_5\">\r\n      <g>\r\n       <use style=\"stroke:#000000;stroke-width:0.8;\" x=\"349.684943\" xlink:href=\"#m7ab617052e\" y=\"224.64\"/>\r\n      </g>\r\n     </g>\r\n     <g id=\"text_5\">\r\n      <!-- 8 -->\r\n      <g transform=\"translate(346.503693 239.238437)scale(0.1 -0.1)\">\r\n       <defs>\r\n        <path d=\"M 31.78125 34.625 \r\nQ 24.75 34.625 20.71875 30.859375 \r\nQ 16.703125 27.09375 16.703125 20.515625 \r\nQ 16.703125 13.921875 20.71875 10.15625 \r\nQ 24.75 6.390625 31.78125 6.390625 \r\nQ 38.8125 6.390625 42.859375 10.171875 \r\nQ 46.921875 13.96875 46.921875 20.515625 \r\nQ 46.921875 27.09375 42.890625 30.859375 \r\nQ 38.875 34.625 31.78125 34.625 \r\nz\r\nM 21.921875 38.8125 \r\nQ 15.578125 40.375 12.03125 44.71875 \r\nQ 8.5 49.078125 8.5 55.328125 \r\nQ 8.5 64.0625 14.71875 69.140625 \r\nQ 20.953125 74.21875 31.78125 74.21875 \r\nQ 42.671875 74.21875 48.875 69.140625 \r\nQ 55.078125 64.0625 55.078125 55.328125 \r\nQ 55.078125 49.078125 51.53125 44.71875 \r\nQ 48 40.375 41.703125 38.8125 \r\nQ 48.828125 37.15625 52.796875 32.3125 \r\nQ 56.78125 27.484375 56.78125 20.515625 \r\nQ 56.78125 9.90625 50.3125 4.234375 \r\nQ 43.84375 -1.421875 31.78125 -1.421875 \r\nQ 19.734375 -1.421875 13.25 4.234375 \r\nQ 6.78125 9.90625 6.78125 20.515625 \r\nQ 6.78125 27.484375 10.78125 32.3125 \r\nQ 14.796875 37.15625 21.921875 38.8125 \r\nz\r\nM 18.3125 54.390625 \r\nQ 18.3125 48.734375 21.84375 45.5625 \r\nQ 25.390625 42.390625 31.78125 42.390625 \r\nQ 38.140625 42.390625 41.71875 45.5625 \r\nQ 45.3125 48.734375 45.3125 54.390625 \r\nQ 45.3125 60.0625 41.71875 63.234375 \r\nQ 38.140625 66.40625 31.78125 66.40625 \r\nQ 25.390625 66.40625 21.84375 63.234375 \r\nQ 18.3125 60.0625 18.3125 54.390625 \r\nz\r\n\" id=\"DejaVuSans-56\"/>\r\n       </defs>\r\n       <use xlink:href=\"#DejaVuSans-56\"/>\r\n      </g>\r\n     </g>\r\n    </g>\r\n   </g>\r\n   <g id=\"matplotlib.axis_2\">\r\n    <g id=\"ytick_1\">\r\n     <g id=\"line2d_6\">\r\n      <defs>\r\n       <path d=\"M 0 0 \r\nL -3.5 0 \r\n\" id=\"m681ef678b7\" style=\"stroke:#000000;stroke-width:0.8;\"/>\r\n      </defs>\r\n      <g>\r\n       <use style=\"stroke:#000000;stroke-width:0.8;\" x=\"30.103125\" xlink:href=\"#m681ef678b7\" y=\"224.64\"/>\r\n      </g>\r\n     </g>\r\n     <g id=\"text_6\">\r\n      <!-- 0.0 -->\r\n      <g transform=\"translate(7.2 228.439219)scale(0.1 -0.1)\">\r\n       <defs>\r\n        <path d=\"M 10.6875 12.40625 \r\nL 21 12.40625 \r\nL 21 0 \r\nL 10.6875 0 \r\nz\r\n\" id=\"DejaVuSans-46\"/>\r\n       </defs>\r\n       <use xlink:href=\"#DejaVuSans-48\"/>\r\n       <use x=\"63.623047\" xlink:href=\"#DejaVuSans-46\"/>\r\n       <use x=\"95.410156\" xlink:href=\"#DejaVuSans-48\"/>\r\n      </g>\r\n     </g>\r\n    </g>\r\n    <g id=\"ytick_2\">\r\n     <g id=\"line2d_7\">\r\n      <g>\r\n       <use style=\"stroke:#000000;stroke-width:0.8;\" x=\"30.103125\" xlink:href=\"#m681ef678b7\" y=\"176.596114\"/>\r\n      </g>\r\n     </g>\r\n     <g id=\"text_7\">\r\n      <!-- 0.2 -->\r\n      <g transform=\"translate(7.2 180.395333)scale(0.1 -0.1)\">\r\n       <use xlink:href=\"#DejaVuSans-48\"/>\r\n       <use x=\"63.623047\" xlink:href=\"#DejaVuSans-46\"/>\r\n       <use x=\"95.410156\" xlink:href=\"#DejaVuSans-50\"/>\r\n      </g>\r\n     </g>\r\n    </g>\r\n    <g id=\"ytick_3\">\r\n     <g id=\"line2d_8\">\r\n      <g>\r\n       <use style=\"stroke:#000000;stroke-width:0.8;\" x=\"30.103125\" xlink:href=\"#m681ef678b7\" y=\"128.552229\"/>\r\n      </g>\r\n     </g>\r\n     <g id=\"text_8\">\r\n      <!-- 0.4 -->\r\n      <g transform=\"translate(7.2 132.351447)scale(0.1 -0.1)\">\r\n       <use xlink:href=\"#DejaVuSans-48\"/>\r\n       <use x=\"63.623047\" xlink:href=\"#DejaVuSans-46\"/>\r\n       <use x=\"95.410156\" xlink:href=\"#DejaVuSans-52\"/>\r\n      </g>\r\n     </g>\r\n    </g>\r\n    <g id=\"ytick_4\">\r\n     <g id=\"line2d_9\">\r\n      <g>\r\n       <use style=\"stroke:#000000;stroke-width:0.8;\" x=\"30.103125\" xlink:href=\"#m681ef678b7\" y=\"80.508343\"/>\r\n      </g>\r\n     </g>\r\n     <g id=\"text_9\">\r\n      <!-- 0.6 -->\r\n      <g transform=\"translate(7.2 84.307562)scale(0.1 -0.1)\">\r\n       <use xlink:href=\"#DejaVuSans-48\"/>\r\n       <use x=\"63.623047\" xlink:href=\"#DejaVuSans-46\"/>\r\n       <use x=\"95.410156\" xlink:href=\"#DejaVuSans-54\"/>\r\n      </g>\r\n     </g>\r\n    </g>\r\n    <g id=\"ytick_5\">\r\n     <g id=\"line2d_10\">\r\n      <g>\r\n       <use style=\"stroke:#000000;stroke-width:0.8;\" x=\"30.103125\" xlink:href=\"#m681ef678b7\" y=\"32.464457\"/>\r\n      </g>\r\n     </g>\r\n     <g id=\"text_10\">\r\n      <!-- 0.8 -->\r\n      <g transform=\"translate(7.2 36.263676)scale(0.1 -0.1)\">\r\n       <use xlink:href=\"#DejaVuSans-48\"/>\r\n       <use x=\"63.623047\" xlink:href=\"#DejaVuSans-46\"/>\r\n       <use x=\"95.410156\" xlink:href=\"#DejaVuSans-56\"/>\r\n      </g>\r\n     </g>\r\n    </g>\r\n   </g>\r\n   <g id=\"line2d_11\">\r\n    <path clip-path=\"url(#pa89b843f6d)\" d=\"M 59.814813 193.055859 \r\nL 96.04858 222.219759 \r\nL 132.282346 224.516361 \r\nL 168.516112 224.635263 \r\nL 204.749878 224.639855 \r\nL 240.983644 224.639996 \r\nL 277.217411 224.64 \r\nL 313.451177 224.64 \r\nL 349.684943 224.64 \r\n\" style=\"fill:none;stroke:#ff0000;stroke-linecap:square;stroke-width:1.5;\"/>\r\n   </g>\r\n   <g id=\"patch_7\">\r\n    <path d=\"M 30.103125 224.64 \r\nL 30.103125 7.2 \r\n\" style=\"fill:none;stroke:#000000;stroke-linecap:square;stroke-linejoin:miter;stroke-width:0.8;\"/>\r\n   </g>\r\n   <g id=\"patch_8\">\r\n    <path d=\"M 364.903125 224.64 \r\nL 364.903125 7.2 \r\n\" style=\"fill:none;stroke:#000000;stroke-linecap:square;stroke-linejoin:miter;stroke-width:0.8;\"/>\r\n   </g>\r\n   <g id=\"patch_9\">\r\n    <path d=\"M 30.103125 224.64 \r\nL 364.903125 224.64 \r\n\" style=\"fill:none;stroke:#000000;stroke-linecap:square;stroke-linejoin:miter;stroke-width:0.8;\"/>\r\n   </g>\r\n   <g id=\"patch_10\">\r\n    <path d=\"M 30.103125 7.2 \r\nL 364.903125 7.2 \r\n\" style=\"fill:none;stroke:#000000;stroke-linecap:square;stroke-linejoin:miter;stroke-width:0.8;\"/>\r\n   </g>\r\n  </g>\r\n </g>\r\n <defs>\r\n  <clipPath id=\"pa89b843f6d\">\r\n   <rect height=\"217.44\" width=\"334.8\" x=\"30.103125\" y=\"7.2\"/>\r\n  </clipPath>\r\n </defs>\r\n</svg>\r\n",
      "image/png": "[encoded data removed]"
     },
     "metadata": {
      "needs_background": "light"
     }
    }
   ],
   "source": [
    "# estimador de maxima verossimilhanca\n",
    "lambda_ = d.mean()\n",
    "# distribuicao real\n",
    "d = pd.Series(d).value_counts() / len(d)\n",
    "# distribuicao teorica\n",
    "teor_d = np.array([stats.poisson(lambda_).pmf(x) for x in range(1,10)])\n",
    "\n",
    "print(lambda_)\n",
    "plt.bar(x=d.index,height=d.values)\n",
    "plt.plot(teor_d,color='red')\n",
    "plt.show()"
   ]
  },
  {
   "cell_type": "markdown",
   "metadata": {},
   "source": [
    "### Exemplo iterativo em t"
   ]
  },
  {
   "cell_type": "code",
   "execution_count": 89,
   "metadata": {},
   "outputs": [
    {
     "output_type": "stream",
     "name": "stdout",
     "text": [
      "t: 1 - Likelihood: 226.2747833730556\n",
      "t: 2 - Likelihood: 134.92973798382263\n",
      "t: 3 - Likelihood: 160.15343935011\n",
      "t: 4 - Likelihood: 181.00969024025886\n",
      "t: 5 - Likelihood: 140.17013172836567\n",
      "t: 6 - Likelihood: 155.2952294150542\n",
      "t: 7 - Likelihood: 152.83302997443388\n",
      "t: 8 - Likelihood: 121.34181392265154\n",
      "t: 9 - Likelihood: 97.91073018083341\n",
      "t: 10 - Likelihood: 94.80998755492996\n",
      "t: 11 - Likelihood: 88.47604815334338\n",
      "t: 12 - Likelihood: 94.80998755493009\n",
      "t: 13 - Likelihood: 94.80998755493049\n",
      "t: 14 - Likelihood: 112.82078097898942\n",
      "t: 15 - Likelihood: 75.21572214504917\n",
      "t: 16 - Likelihood: 88.47604815334338\n",
      "t: 17 - Likelihood: 109.91296617580794\n",
      "t: 18 - Likelihood: 150.34810130413038\n",
      "t: 19 - Likelihood: 140.17013172836587\n",
      "t: 20 - Likelihood: 206.59487202404236\n",
      "t: 21 - Likelihood: 224.36738678422932\n",
      "t: 22 - Likelihood: 244.66910805959216\n",
      "t: 23 - Likelihood: 261.9246107027817\n",
      "t: 24 - Likelihood: 248.2072125797163\n",
      "t: 25 - Likelihood: 255.15104372758532\n",
      "t: 26 - Likelihood: 273.3892599611369\n",
      "t: 27 - Likelihood: 299.34487826422236\n",
      "t: 28 - Likelihood: 302.2358667624233\n",
      "t: 29 - Likelihood: 258.5586620558191\n",
      "t: 30 - Likelihood: 293.4639896832048\n",
      "t: 31 - Likelihood: 278.15792696190704\n",
      "t: 32 - Likelihood: 273.38925996113727\n",
      "t: 33 - Likelihood: 258.5586620558191\n",
      "t: 34 - Likelihood: 281.29059442992366\n",
      "t: 35 - Likelihood: 235.62263934714323\n",
      "t: 36 - Likelihood: 278.1579269619075\n",
      "t: 37 - Likelihood: 255.15104372758537\n",
      "t: 38 - Likelihood: 230.05127625669888\n",
      "t: 39 - Likelihood: 214.63210575839537\n",
      "t: 40 - Likelihood: 235.62263934714292\n",
      "t: 41 - Likelihood: 246.4437784153925\n",
      "t: 42 - Likelihood: 200.4132206691564\n",
      "t: 43 - Likelihood: 218.56658460620903\n",
      "t: 44 - Likelihood: 248.20721257971562\n",
      "t: 45 - Likelihood: 206.59487202404262\n",
      "t: 46 - Likelihood: 169.61793971307515\n",
      "t: 47 - Likelihood: 200.41322066915652\n",
      "t: 48 - Likelihood: 178.7683921457606\n"
     ]
    }
   ],
   "source": [
    "for it in range(1,49):\n",
    "    model = NaiveModel()\n",
    "    d = calcular_distribuicao(df,it,1,144,1)\n",
    "    model.fit(d)\n",
    "    print('t: {} - Likelihood: {}'.format(it,model.likelihood))"
   ]
  }
 ],
 "metadata": {
  "kernelspec": {
   "display_name": "Python 3",
   "language": "python",
   "name": "python3"
  },
  "language_info": {
   "codemirror_mode": {
    "name": "ipython",
    "version": 3
   },
   "file_extension": ".py",
   "mimetype": "text/x-python",
   "name": "python",
   "nbconvert_exporter": "python",
   "pygments_lexer": "ipython3",
   "version": "3.7.3-final"
  },
  "latex_envs": {
   "LaTeX_envs_menu_present": true,
   "autoclose": false,
   "autocomplete": true,
   "bibliofile": "biblio.bib",
   "cite_by": "apalike",
   "current_citInitial": 1,
   "eqLabelWithNumbers": true,
   "eqNumInitial": 1,
   "hotkeys": {
    "equation": "Ctrl-E",
    "itemize": "Ctrl-I"
   },
   "labels_anchors": false,
   "latex_user_defs": false,
   "report_style_numbering": false,
   "user_envs_cfg": false
  },
  "toc": {
   "base_numbering": 1,
   "nav_menu": {},
   "number_sections": true,
   "sideBar": true,
   "skip_h1_title": false,
   "title_cell": "Table of Contents",
   "title_sidebar": "Contents",
   "toc_cell": true,
   "toc_position": {},
   "toc_section_display": true,
   "toc_window_display": true
  }
 },
 "nbformat": 4,
 "nbformat_minor": 2
}