{
 "cells": [
  {
   "cell_type": "markdown",
   "metadata": {
    "toc": true
   },
   "source": [
    "<h1>Table of Contents<span class=\"tocSkip\"></span></h1>\n",
    "<div class=\"toc\"><ul class=\"toc-item\"><li><span><a href=\"#Pegar-links-das-páginas-de-bairros\" data-toc-modified-id=\"Pegar-links-das-páginas-de-bairros-1\"><span class=\"toc-item-num\">1&nbsp;&nbsp;</span>Pegar links das páginas de bairros</a></span></li><li><span><a href=\"#Iterar-pelos-links,-buscando-informações-demográficas\" data-toc-modified-id=\"Iterar-pelos-links,-buscando-informações-demográficas-2\"><span class=\"toc-item-num\">2&nbsp;&nbsp;</span>Iterar pelos links, buscando informações demográficas</a></span></li><li><span><a href=\"#Salvar-resultado\" data-toc-modified-id=\"Salvar-resultado-3\"><span class=\"toc-item-num\">3&nbsp;&nbsp;</span>Salvar resultado</a></span></li></ul></div>"
   ]
  },
  {
   "cell_type": "code",
   "execution_count": 1,
   "metadata": {},
   "outputs": [],
   "source": [
    "import sys,os,re,urllib\n",
    "\n",
    "import numpy as np\n",
    "import pandas as pd\n",
    "import matplotlib.pyplot as plt\n",
    "from tqdm.notebook import tqdm\n",
    "\n",
    "from bs4 import BeautifulSoup"
   ]
  },
  {
   "cell_type": "code",
   "execution_count": 2,
   "metadata": {},
   "outputs": [],
   "source": [
    "sys.path.append('..')"
   ]
  },
  {
   "cell_type": "code",
   "execution_count": 3,
   "metadata": {},
   "outputs": [],
   "source": [
    "from config import *"
   ]
  },
  {
   "cell_type": "markdown",
   "metadata": {},
   "source": [
    "# Pegar links das páginas de bairros"
   ]
  },
  {
   "cell_type": "code",
   "execution_count": 5,
   "metadata": {},
   "outputs": [],
   "source": [
    "url = 'https://pt.wikipedia.org/wiki/Lista_de_bairros_da_cidade_do_Rio_de_Janeiro'\n",
    "\n",
    "page = urllib.request.urlopen(url)\n",
    "soup = BeautifulSoup(page,'lxml')\n",
    "table = soup.find('table',class_='wikitable')\n",
    "table_str = str(table)\n",
    "pat = r'(href=\")(/wiki/)(([A-Z]|[a-z]|[0-9]|%|_|\\(|\\)|/)+)(\" title)'\n",
    "links = ['https://pt.wikipedia.org/wiki/{}'.format(i[2]) for i in re.findall(pat,table_str)]"
   ]
  },
  {
   "cell_type": "markdown",
   "metadata": {},
   "source": [
    "# Iterar pelos links, buscando informações demográficas"
   ]
  },
  {
   "cell_type": "code",
   "execution_count": 6,
   "metadata": {},
   "outputs": [],
   "source": [
    "def buscar_area(link_table):\n",
    "    pat = '((Área total<\\/a>\\\\n<\\/td>\\\\n<td style=\"vertical-align: top; text-align: left;\">)([0-9]|,)+)'\n",
    "    try:\n",
    "        area = float(re.findall(pat,str(link_table))[0][0].split('>')[-1].replace(',','.'))\n",
    "        return area\n",
    "    except:\n",
    "        return None\n",
    "    \n",
    "def buscar_pop(link_table):\n",
    "    pat = '((População total</a>\\n</td>\\n<td style=\"vertical-align: top; text-align: left;\">)([0-9]|,)+)'\n",
    "    try:\n",
    "        pop = float(re.findall(pat,str(link_table))[0][0].split('>')[-1].replace(',','.'))\n",
    "        return pop\n",
    "    except:\n",
    "        return None\n",
    "    \n",
    "def buscar_idh(link_table):\n",
    "    pat = '((IDH</a>\\n</td>\\n<td style=\"vertical-align: top; text-align: left;\">(<span style=\"color: #([0-9]|[A-Z]|;)+\">)?(<font color=\"#([0-9]|[A-Z]|;)+\">)?)([0-9]|,)+)'\n",
    "    try:\n",
    "        idh = float(re.findall(pat,str(link_table))[0][0].split('>')[-1].replace(',','.'))\n",
    "        return idh\n",
    "    except:\n",
    "        return None"
   ]
  },
  {
   "cell_type": "code",
   "execution_count": 15,
   "metadata": {},
   "outputs": [
    {
     "data": {
      "application/vnd.jupyter.widget-view+json": {
       "model_id": "02518fd1bc63463389a465294a8aa466",
       "version_major": 2,
       "version_minor": 0
      },
      "text/plain": [
       "HBox(children=(IntProgress(value=0, max=176), HTML(value='')))"
      ]
     },
     "metadata": {},
     "output_type": "display_data"
    },
    {
     "name": "stdout",
     "output_type": "stream",
     "text": [
      "\n"
     ]
    }
   ],
   "source": [
    "results = []\n",
    "for link in tqdm(links[1:]):\n",
    "    page = urllib.request.urlopen(link)\n",
    "    soup = BeautifulSoup(page,'lxml')\n",
    "    \n",
    "    tables = soup.find_all('table')\n",
    "    if len(tables) > 0:\n",
    "        \n",
    "        for t in soup.find_all('table'):\n",
    "            if 'População' in str(t):\n",
    "                link_table = t\n",
    "                break\n",
    "\n",
    "        area = buscar_area(link_table)\n",
    "        pop  = buscar_pop(link_table)\n",
    "        idh  = buscar_idh(link_table)\n",
    "        \n",
    "    else:\n",
    "        area,pop,idh = None,None,None\n",
    "\n",
    "    results.append((link,area,pop,idh))"
   ]
  },
  {
   "cell_type": "markdown",
   "metadata": {},
   "source": [
    "# Salvar resultado"
   ]
  },
  {
   "cell_type": "code",
   "execution_count": 16,
   "metadata": {},
   "outputs": [],
   "source": [
    "df = pd.DataFrame(results,columns=['link','area','populacao','idh'])"
   ]
  },
  {
   "cell_type": "code",
   "execution_count": 19,
   "metadata": {},
   "outputs": [
    {
     "data": {
      "text/html": [
       "<div>\n",
       "<style scoped>\n",
       "    .dataframe tbody tr th:only-of-type {\n",
       "        vertical-align: middle;\n",
       "    }\n",
       "\n",
       "    .dataframe tbody tr th {\n",
       "        vertical-align: top;\n",
       "    }\n",
       "\n",
       "    .dataframe thead th {\n",
       "        text-align: right;\n",
       "    }\n",
       "</style>\n",
       "<table border=\"1\" class=\"dataframe\">\n",
       "  <thead>\n",
       "    <tr style=\"text-align: right;\">\n",
       "      <th></th>\n",
       "      <th>link</th>\n",
       "      <th>area</th>\n",
       "      <th>populacao</th>\n",
       "      <th>idh</th>\n",
       "    </tr>\n",
       "  </thead>\n",
       "  <tbody>\n",
       "    <tr>\n",
       "      <th>0</th>\n",
       "      <td>https://pt.wikipedia.org/wiki/S%C3%A3o_Crist%C...</td>\n",
       "      <td>410.56</td>\n",
       "      <td>26.510</td>\n",
       "      <td>0.833</td>\n",
       "    </tr>\n",
       "    <tr>\n",
       "      <th>1</th>\n",
       "      <td>https://pt.wikipedia.org/wiki/Benfica_(bairro_...</td>\n",
       "      <td>173.64</td>\n",
       "      <td>25.081</td>\n",
       "      <td>0.825</td>\n",
       "    </tr>\n",
       "    <tr>\n",
       "      <th>2</th>\n",
       "      <td>https://pt.wikipedia.org/wiki/Caju_(bairro_do_...</td>\n",
       "      <td>534.75</td>\n",
       "      <td>20.477</td>\n",
       "      <td>0.753</td>\n",
       "    </tr>\n",
       "    <tr>\n",
       "      <th>3</th>\n",
       "      <td>https://pt.wikipedia.org/wiki/Catumbi</td>\n",
       "      <td>53.95</td>\n",
       "      <td>12.000</td>\n",
       "      <td>0.802</td>\n",
       "    </tr>\n",
       "    <tr>\n",
       "      <th>4</th>\n",
       "      <td>https://pt.wikipedia.org/wiki/Centro_(Rio_de_J...</td>\n",
       "      <td>572.31</td>\n",
       "      <td>41.142</td>\n",
       "      <td>0.894</td>\n",
       "    </tr>\n",
       "    <tr>\n",
       "      <th>...</th>\n",
       "      <td>...</td>\n",
       "      <td>...</td>\n",
       "      <td>...</td>\n",
       "      <td>...</td>\n",
       "    </tr>\n",
       "    <tr>\n",
       "      <th>171</th>\n",
       "      <td>https://pt.wikipedia.org/wiki/Vicente_de_Carva...</td>\n",
       "      <td>211.69</td>\n",
       "      <td>29.000</td>\n",
       "      <td>0.807</td>\n",
       "    </tr>\n",
       "    <tr>\n",
       "      <th>172</th>\n",
       "      <td>https://pt.wikipedia.org/wiki/Vig%C3%A1rio_Geral</td>\n",
       "      <td>211.69</td>\n",
       "      <td>29.000</td>\n",
       "      <td>0.807</td>\n",
       "    </tr>\n",
       "    <tr>\n",
       "      <th>173</th>\n",
       "      <td>https://pt.wikipedia.org/wiki/Vila_da_Penha</td>\n",
       "      <td>143.57</td>\n",
       "      <td>NaN</td>\n",
       "      <td>0.909</td>\n",
       "    </tr>\n",
       "    <tr>\n",
       "      <th>174</th>\n",
       "      <td>https://pt.wikipedia.org/wiki/Vila_Kosmos</td>\n",
       "      <td>143.57</td>\n",
       "      <td>NaN</td>\n",
       "      <td>0.909</td>\n",
       "    </tr>\n",
       "    <tr>\n",
       "      <th>175</th>\n",
       "      <td>https://pt.wikipedia.org/wiki/Vista_Alegre_(ba...</td>\n",
       "      <td>143.57</td>\n",
       "      <td>NaN</td>\n",
       "      <td>0.909</td>\n",
       "    </tr>\n",
       "  </tbody>\n",
       "</table>\n",
       "<p>176 rows × 4 columns</p>\n",
       "</div>"
      ],
      "text/plain": [
       "                                                  link    area  populacao  \\\n",
       "0    https://pt.wikipedia.org/wiki/S%C3%A3o_Crist%C...  410.56     26.510   \n",
       "1    https://pt.wikipedia.org/wiki/Benfica_(bairro_...  173.64     25.081   \n",
       "2    https://pt.wikipedia.org/wiki/Caju_(bairro_do_...  534.75     20.477   \n",
       "3                https://pt.wikipedia.org/wiki/Catumbi   53.95     12.000   \n",
       "4    https://pt.wikipedia.org/wiki/Centro_(Rio_de_J...  572.31     41.142   \n",
       "..                                                 ...     ...        ...   \n",
       "171  https://pt.wikipedia.org/wiki/Vicente_de_Carva...  211.69     29.000   \n",
       "172   https://pt.wikipedia.org/wiki/Vig%C3%A1rio_Geral  211.69     29.000   \n",
       "173        https://pt.wikipedia.org/wiki/Vila_da_Penha  143.57        NaN   \n",
       "174          https://pt.wikipedia.org/wiki/Vila_Kosmos  143.57        NaN   \n",
       "175  https://pt.wikipedia.org/wiki/Vista_Alegre_(ba...  143.57        NaN   \n",
       "\n",
       "       idh  \n",
       "0    0.833  \n",
       "1    0.825  \n",
       "2    0.753  \n",
       "3    0.802  \n",
       "4    0.894  \n",
       "..     ...  \n",
       "171  0.807  \n",
       "172  0.807  \n",
       "173  0.909  \n",
       "174  0.909  \n",
       "175  0.909  \n",
       "\n",
       "[176 rows x 4 columns]"
      ]
     },
     "execution_count": 19,
     "metadata": {},
     "output_type": "execute_result"
    }
   ],
   "source": [
    "df"
   ]
  },
  {
   "cell_type": "code",
   "execution_count": 20,
   "metadata": {},
   "outputs": [],
   "source": [
    "df.to_pickle(os.path.join(TRTD_DATA_PATH,'wiki_demo_data.pkl'))\n",
    "df.to_csv(os.path.join(TRTD_DATA_PATH,'wiki_demo_data.csv'))"
   ]
  }
 ],
 "metadata": {
  "kernelspec": {
   "display_name": "Python 3",
   "language": "python",
   "name": "python3"
  },
  "language_info": {
   "codemirror_mode": {
    "name": "ipython",
    "version": 3
   },
   "file_extension": ".py",
   "mimetype": "text/x-python",
   "name": "python",
   "nbconvert_exporter": "python",
   "pygments_lexer": "ipython3",
   "version": "3.7.3"
  },
  "latex_envs": {
   "LaTeX_envs_menu_present": true,
   "autoclose": false,
   "autocomplete": true,
   "bibliofile": "biblio.bib",
   "cite_by": "apalike",
   "current_citInitial": 1,
   "eqLabelWithNumbers": true,
   "eqNumInitial": 1,
   "hotkeys": {
    "equation": "Ctrl-E",
    "itemize": "Ctrl-I"
   },
   "labels_anchors": false,
   "latex_user_defs": false,
   "report_style_numbering": false,
   "user_envs_cfg": false
  },
  "toc": {
   "base_numbering": 1,
   "nav_menu": {},
   "number_sections": true,
   "sideBar": true,
   "skip_h1_title": false,
   "title_cell": "Table of Contents",
   "title_sidebar": "Contents",
   "toc_cell": true,
   "toc_position": {
    "height": "calc(100% - 180px)",
    "left": "10px",
    "top": "150px",
    "width": "315.833px"
   },
   "toc_section_display": true,
   "toc_window_display": true
  }
 },
 "nbformat": 4,
 "nbformat_minor": 2
}
